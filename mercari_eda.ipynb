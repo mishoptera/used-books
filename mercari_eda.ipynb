{
 "cells": [
  {
   "cell_type": "markdown",
   "metadata": {},
   "source": [
    "# Analyzing the Mercari children's book dataset"
   ]
  },
  {
   "cell_type": "markdown",
   "metadata": {},
   "source": [
    "### Import libraries and files"
   ]
  },
  {
   "cell_type": "code",
   "execution_count": 24,
   "metadata": {},
   "outputs": [],
   "source": [
    "import os\n",
    "import pandas as pd\n"
   ]
  },
  {
   "cell_type": "code",
   "execution_count": 37,
   "metadata": {},
   "outputs": [
    {
     "data": {
      "text/html": [
       "<div>\n",
       "<style scoped>\n",
       "    .dataframe tbody tr th:only-of-type {\n",
       "        vertical-align: middle;\n",
       "    }\n",
       "\n",
       "    .dataframe tbody tr th {\n",
       "        vertical-align: top;\n",
       "    }\n",
       "\n",
       "    .dataframe thead th {\n",
       "        text-align: right;\n",
       "    }\n",
       "</style>\n",
       "<table border=\"1\" class=\"dataframe\">\n",
       "  <thead>\n",
       "    <tr style=\"text-align: right;\">\n",
       "      <th></th>\n",
       "      <th>brand</th>\n",
       "      <th>category</th>\n",
       "      <th>condition</th>\n",
       "      <th>description</th>\n",
       "      <th>id</th>\n",
       "      <th>posted</th>\n",
       "      <th>price</th>\n",
       "      <th>seller_name</th>\n",
       "      <th>shipping</th>\n",
       "      <th>sold</th>\n",
       "      <th>title</th>\n",
       "    </tr>\n",
       "  </thead>\n",
       "  <tbody>\n",
       "    <tr>\n",
       "      <th>0</th>\n",
       "      <td>NaN</td>\n",
       "      <td>Other,Books,Children's books</td>\n",
       "      <td>New</td>\n",
       "      <td>Free with another book purchase</td>\n",
       "      <td>84914972647</td>\n",
       "      <td>07/10/17</td>\n",
       "      <td>$3</td>\n",
       "      <td>C Sells</td>\n",
       "      <td>$4.00 | from Texas</td>\n",
       "      <td>Buy now</td>\n",
       "      <td>Book</td>\n",
       "    </tr>\n",
       "    <tr>\n",
       "      <th>1</th>\n",
       "      <td>NaN</td>\n",
       "      <td>Other,Books,Children's books</td>\n",
       "      <td>New</td>\n",
       "      <td>Book-When Bad Thinds Happen in God's Wonderful...</td>\n",
       "      <td>28411714700</td>\n",
       "      <td>07/15/17</td>\n",
       "      <td>$3</td>\n",
       "      <td>Investinyou</td>\n",
       "      <td>$4.00 | 3+ days | from Texas</td>\n",
       "      <td>Buy now</td>\n",
       "      <td>Book- When Bad Things Happen</td>\n",
       "    </tr>\n",
       "    <tr>\n",
       "      <th>2</th>\n",
       "      <td>NaN</td>\n",
       "      <td>Other,Books,Children's books</td>\n",
       "      <td>New</td>\n",
       "      <td>This listing is for one book. Please let me kn...</td>\n",
       "      <td>21933816748</td>\n",
       "      <td>05/26/19</td>\n",
       "      <td>$11</td>\n",
       "      <td>HWalters55</td>\n",
       "      <td>Free | from Washington</td>\n",
       "      <td>Buy now</td>\n",
       "      <td>Usborne Wipe-Clean- NEW</td>\n",
       "    </tr>\n",
       "    <tr>\n",
       "      <th>3</th>\n",
       "      <td>NaN</td>\n",
       "      <td>Other,Books,Children's books</td>\n",
       "      <td>New</td>\n",
       "      <td>Brand new.  Never used.  Ask me about bundling.</td>\n",
       "      <td>89750511304</td>\n",
       "      <td>11/11/17</td>\n",
       "      <td>$3</td>\n",
       "      <td>Bargain hauls</td>\n",
       "      <td>$4.00 | 3+ days | from Minnesota</td>\n",
       "      <td>Buy now</td>\n",
       "      <td>Jingle Bells Book</td>\n",
       "    </tr>\n",
       "    <tr>\n",
       "      <th>4</th>\n",
       "      <td>NaN</td>\n",
       "      <td>Other,Books,Children's books</td>\n",
       "      <td>New</td>\n",
       "      <td>My Sister The Vampire Vampalicious. New softco...</td>\n",
       "      <td>496308655</td>\n",
       "      <td>08/19/16</td>\n",
       "      <td>$4</td>\n",
       "      <td>Dustyattic</td>\n",
       "      <td>Free | from Connecticut</td>\n",
       "      <td>Buy now</td>\n",
       "      <td>My Sister The Vampire</td>\n",
       "    </tr>\n",
       "  </tbody>\n",
       "</table>\n",
       "</div>"
      ],
      "text/plain": [
       "  brand                      category condition  \\\n",
       "0   NaN  Other,Books,Children's books       New   \n",
       "1   NaN  Other,Books,Children's books       New   \n",
       "2   NaN  Other,Books,Children's books       New   \n",
       "3   NaN  Other,Books,Children's books       New   \n",
       "4   NaN  Other,Books,Children's books       New   \n",
       "\n",
       "                                         description           id    posted  \\\n",
       "0                    Free with another book purchase  84914972647  07/10/17   \n",
       "1  Book-When Bad Thinds Happen in God's Wonderful...  28411714700  07/15/17   \n",
       "2  This listing is for one book. Please let me kn...  21933816748  05/26/19   \n",
       "3    Brand new.  Never used.  Ask me about bundling.  89750511304  11/11/17   \n",
       "4  My Sister The Vampire Vampalicious. New softco...    496308655  08/19/16   \n",
       "\n",
       "  price    seller_name                          shipping     sold  \\\n",
       "0    $3        C Sells                $4.00 | from Texas  Buy now   \n",
       "1    $3    Investinyou      $4.00 | 3+ days | from Texas  Buy now   \n",
       "2   $11     HWalters55            Free | from Washington  Buy now   \n",
       "3    $3  Bargain hauls  $4.00 | 3+ days | from Minnesota  Buy now   \n",
       "4    $4     Dustyattic           Free | from Connecticut  Buy now   \n",
       "\n",
       "                          title  \n",
       "0                          Book  \n",
       "1  Book- When Bad Things Happen  \n",
       "2       Usborne Wipe-Clean- NEW  \n",
       "3             Jingle Bells Book  \n",
       "4         My Sister The Vampire  "
      ]
     },
     "execution_count": 37,
     "metadata": {},
     "output_type": "execute_result"
    }
   ],
   "source": [
    "os.chdir('/Users/mleong/github/used-books')\n",
    "books = pd.read_csv('used-book-data.csv')\n",
    "books.head()"
   ]
  },
  {
   "cell_type": "code",
   "execution_count": 38,
   "metadata": {},
   "outputs": [
    {
     "name": "stdout",
     "output_type": "stream",
     "text": [
      "Number of rows:  49481\n",
      "Number of columns:  11\n",
      "Column names:  Index(['brand', 'category', 'condition', 'description', 'id', 'posted',\n",
      "       'price', 'seller_name', 'shipping', 'sold', 'title'],\n",
      "      dtype='object')\n",
      "Index method:  RangeIndex(start=0, stop=49481, step=1)\n",
      "Data types for entire dataframe: \n",
      "<class 'pandas.core.frame.DataFrame'>\n",
      "RangeIndex: 49481 entries, 0 to 49480\n",
      "Data columns (total 11 columns):\n",
      "brand          25163 non-null object\n",
      "category       49478 non-null object\n",
      "condition      49481 non-null object\n",
      "description    49481 non-null object\n",
      "id             49481 non-null int64\n",
      "posted         49481 non-null object\n",
      "price          49481 non-null object\n",
      "seller_name    49481 non-null object\n",
      "shipping       49481 non-null object\n",
      "sold           49481 non-null object\n",
      "title          49481 non-null object\n",
      "dtypes: int64(1), object(10)\n",
      "memory usage: 4.2+ MB\n",
      "Data type of price column specifically is:  object\n"
     ]
    }
   ],
   "source": [
    "# Row count\n",
    "rows = books.shape[0]\n",
    "print(\"Number of rows: \", str(rows))\n",
    "\n",
    "# Column count\n",
    "columns = books.shape[1]\n",
    "print(\"Number of columns: \", str(columns))\n",
    "\n",
    "# Column names\n",
    "print(\"Column names: \", str(books.columns))\n",
    "\n",
    "# Indexing method\n",
    "print(\"Index method: \", str(books.index))\n",
    "\n",
    "# Data types of all columns\n",
    "print(\"Data types for entire dataframe: \")\n",
    "books.info()\n",
    "\n",
    "# Data type of particular column\n",
    "print(\"Data type of price column specifically is: \", str(books.price.dtype))\n",
    "\n"
   ]
  },
  {
   "cell_type": "markdown",
   "metadata": {},
   "source": [
    "### Clean-up time!"
   ]
  },
  {
   "cell_type": "code",
   "execution_count": 39,
   "metadata": {},
   "outputs": [
    {
     "data": {
      "text/plain": [
       "22134"
      ]
     },
     "execution_count": 39,
     "metadata": {},
     "output_type": "execute_result"
    }
   ],
   "source": [
    "# eliminate duplicate rows\n",
    "books = books.drop_duplicates()\n",
    "books.shape[0]"
   ]
  },
  {
   "cell_type": "code",
   "execution_count": 40,
   "metadata": {},
   "outputs": [
    {
     "name": "stdout",
     "output_type": "stream",
     "text": [
      "Data type of id column specifically is:  object\n"
     ]
    }
   ],
   "source": [
    "# id: convert to string\n",
    "books.id = str(books.id)\n",
    "print(\"Data type of id column specifically is: \", str(books.id.dtype))"
   ]
  },
  {
   "cell_type": "code",
   "execution_count": 41,
   "metadata": {},
   "outputs": [
    {
     "data": {
      "text/plain": [
       "0   2017-07-10\n",
       "1   2017-07-15\n",
       "2   2019-05-26\n",
       "3   2017-11-11\n",
       "4   2016-08-19\n",
       "Name: posted, dtype: datetime64[ns]"
      ]
     },
     "execution_count": 41,
     "metadata": {},
     "output_type": "execute_result"
    }
   ],
   "source": [
    "# posted: convert to datetime\n",
    "books.posted = pd.to_datetime(books.posted)\n",
    "books['posted'].head()"
   ]
  },
  {
   "cell_type": "code",
   "execution_count": 42,
   "metadata": {},
   "outputs": [
    {
     "data": {
      "text/plain": [
       "array(['available', 'SOLD'], dtype=object)"
      ]
     },
     "execution_count": 42,
     "metadata": {},
     "output_type": "execute_result"
    }
   ],
   "source": [
    "# sold: combine buy now and add to cart categories to be 'for sale'\n",
    "books = books.replace('Buy now', 'available')\n",
    "books.sold.unique()"
   ]
  },
  {
   "cell_type": "code",
   "execution_count": 43,
   "metadata": {},
   "outputs": [
    {
     "data": {
      "text/plain": [
       "0    NaN\n",
       "1     $3\n",
       "2    $11\n",
       "3     $3\n",
       "4     $4\n",
       "Name: price, dtype: object"
      ]
     },
     "execution_count": 43,
     "metadata": {},
     "output_type": "execute_result"
    }
   ],
   "source": [
    "# price: modify to eliminate '$' sign and convert to number\n",
    "\n",
    "books.price = books.price[1:-1]\n",
    "books['price'].head()"
   ]
  },
  {
   "cell_type": "code",
   "execution_count": null,
   "metadata": {},
   "outputs": [],
   "source": [
    "# shipping: create new simpler column \"location\" that is just the state product is coming from"
   ]
  },
  {
   "cell_type": "code",
   "execution_count": null,
   "metadata": {},
   "outputs": [],
   "source": [
    "# shipping: create new simpler column \"free_shipping\" to just be free or not free"
   ]
  },
  {
   "cell_type": "code",
   "execution_count": null,
   "metadata": {},
   "outputs": [],
   "source": [
    "# shipping: create new column \"shipping_fee\" that is continuous variable from $0 to whatever shipping fee is"
   ]
  },
  {
   "cell_type": "code",
   "execution_count": null,
   "metadata": {},
   "outputs": [],
   "source": [
    "# total price: new column that is sum of price and shipping fee"
   ]
  }
 ],
 "metadata": {
  "kernelspec": {
   "display_name": "Python 3",
   "language": "python",
   "name": "python3"
  },
  "language_info": {
   "codemirror_mode": {
    "name": "ipython",
    "version": 3
   },
   "file_extension": ".py",
   "mimetype": "text/x-python",
   "name": "python",
   "nbconvert_exporter": "python",
   "pygments_lexer": "ipython3",
   "version": "3.7.3"
  }
 },
 "nbformat": 4,
 "nbformat_minor": 2
}
