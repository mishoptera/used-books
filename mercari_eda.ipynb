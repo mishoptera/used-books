{
 "cells": [
  {
   "cell_type": "markdown",
   "metadata": {},
   "source": [
    "# Analyzing the Mercari children's book dataset"
   ]
  },
  {
   "cell_type": "markdown",
   "metadata": {},
   "source": [
    "## Import libraries and files"
   ]
  },
  {
   "cell_type": "code",
   "execution_count": 143,
   "metadata": {},
   "outputs": [
    {
     "data": {
      "text/html": [
       "<div>\n",
       "<style scoped>\n",
       "    .dataframe tbody tr th:only-of-type {\n",
       "        vertical-align: middle;\n",
       "    }\n",
       "\n",
       "    .dataframe tbody tr th {\n",
       "        vertical-align: top;\n",
       "    }\n",
       "\n",
       "    .dataframe thead th {\n",
       "        text-align: right;\n",
       "    }\n",
       "</style>\n",
       "<table border=\"1\" class=\"dataframe\">\n",
       "  <thead>\n",
       "    <tr style=\"text-align: right;\">\n",
       "      <th></th>\n",
       "      <th>brand</th>\n",
       "      <th>category</th>\n",
       "      <th>condition</th>\n",
       "      <th>description</th>\n",
       "      <th>id</th>\n",
       "      <th>posted</th>\n",
       "      <th>price</th>\n",
       "      <th>seller_name</th>\n",
       "      <th>shipping</th>\n",
       "      <th>sold</th>\n",
       "      <th>title</th>\n",
       "    </tr>\n",
       "  </thead>\n",
       "  <tbody>\n",
       "    <tr>\n",
       "      <th>0</th>\n",
       "      <td>NaN</td>\n",
       "      <td>Other,Books,Children's books</td>\n",
       "      <td>New</td>\n",
       "      <td>Free with another book purchase</td>\n",
       "      <td>84914972647</td>\n",
       "      <td>07/10/17</td>\n",
       "      <td>$3</td>\n",
       "      <td>C Sells</td>\n",
       "      <td>$4.00 | from Texas</td>\n",
       "      <td>Buy now</td>\n",
       "      <td>Book</td>\n",
       "    </tr>\n",
       "    <tr>\n",
       "      <th>1</th>\n",
       "      <td>NaN</td>\n",
       "      <td>Other,Books,Children's books</td>\n",
       "      <td>New</td>\n",
       "      <td>Book-When Bad Thinds Happen in God's Wonderful...</td>\n",
       "      <td>28411714700</td>\n",
       "      <td>07/15/17</td>\n",
       "      <td>$3</td>\n",
       "      <td>Investinyou</td>\n",
       "      <td>$4.00 | 3+ days | from Texas</td>\n",
       "      <td>Buy now</td>\n",
       "      <td>Book- When Bad Things Happen</td>\n",
       "    </tr>\n",
       "    <tr>\n",
       "      <th>2</th>\n",
       "      <td>NaN</td>\n",
       "      <td>Other,Books,Children's books</td>\n",
       "      <td>New</td>\n",
       "      <td>This listing is for one book. Please let me kn...</td>\n",
       "      <td>21933816748</td>\n",
       "      <td>05/26/19</td>\n",
       "      <td>$11</td>\n",
       "      <td>HWalters55</td>\n",
       "      <td>Free | from Washington</td>\n",
       "      <td>Buy now</td>\n",
       "      <td>Usborne Wipe-Clean- NEW</td>\n",
       "    </tr>\n",
       "    <tr>\n",
       "      <th>3</th>\n",
       "      <td>NaN</td>\n",
       "      <td>Other,Books,Children's books</td>\n",
       "      <td>New</td>\n",
       "      <td>Brand new.  Never used.  Ask me about bundling.</td>\n",
       "      <td>89750511304</td>\n",
       "      <td>11/11/17</td>\n",
       "      <td>$3</td>\n",
       "      <td>Bargain hauls</td>\n",
       "      <td>$4.00 | 3+ days | from Minnesota</td>\n",
       "      <td>Buy now</td>\n",
       "      <td>Jingle Bells Book</td>\n",
       "    </tr>\n",
       "    <tr>\n",
       "      <th>4</th>\n",
       "      <td>NaN</td>\n",
       "      <td>Other,Books,Children's books</td>\n",
       "      <td>New</td>\n",
       "      <td>My Sister The Vampire Vampalicious. New softco...</td>\n",
       "      <td>496308655</td>\n",
       "      <td>08/19/16</td>\n",
       "      <td>$4</td>\n",
       "      <td>Dustyattic</td>\n",
       "      <td>Free | from Connecticut</td>\n",
       "      <td>Buy now</td>\n",
       "      <td>My Sister The Vampire</td>\n",
       "    </tr>\n",
       "  </tbody>\n",
       "</table>\n",
       "</div>"
      ],
      "text/plain": [
       "  brand                      category condition  \\\n",
       "0   NaN  Other,Books,Children's books       New   \n",
       "1   NaN  Other,Books,Children's books       New   \n",
       "2   NaN  Other,Books,Children's books       New   \n",
       "3   NaN  Other,Books,Children's books       New   \n",
       "4   NaN  Other,Books,Children's books       New   \n",
       "\n",
       "                                         description           id    posted  \\\n",
       "0                    Free with another book purchase  84914972647  07/10/17   \n",
       "1  Book-When Bad Thinds Happen in God's Wonderful...  28411714700  07/15/17   \n",
       "2  This listing is for one book. Please let me kn...  21933816748  05/26/19   \n",
       "3    Brand new.  Never used.  Ask me about bundling.  89750511304  11/11/17   \n",
       "4  My Sister The Vampire Vampalicious. New softco...    496308655  08/19/16   \n",
       "\n",
       "  price    seller_name                          shipping     sold  \\\n",
       "0    $3        C Sells                $4.00 | from Texas  Buy now   \n",
       "1    $3    Investinyou      $4.00 | 3+ days | from Texas  Buy now   \n",
       "2   $11     HWalters55            Free | from Washington  Buy now   \n",
       "3    $3  Bargain hauls  $4.00 | 3+ days | from Minnesota  Buy now   \n",
       "4    $4     Dustyattic           Free | from Connecticut  Buy now   \n",
       "\n",
       "                          title  \n",
       "0                          Book  \n",
       "1  Book- When Bad Things Happen  \n",
       "2       Usborne Wipe-Clean- NEW  \n",
       "3             Jingle Bells Book  \n",
       "4         My Sister The Vampire  "
      ]
     },
     "execution_count": 143,
     "metadata": {},
     "output_type": "execute_result"
    }
   ],
   "source": [
    "%matplotlib notebook\n",
    "import os\n",
    "import re\n",
    "import numpy as np\n",
    "import matplotlib.pyplot as plt\n",
    "import pandas as pd\n",
    "import datetime\n",
    "from sklearn.model_selection import train_test_split\n",
    "\n",
    "os.chdir('/Users/mleong/github/used-books')\n",
    "books = pd.read_csv('used-book-data.csv')\n",
    "books.head()\n"
   ]
  },
  {
   "cell_type": "code",
   "execution_count": 144,
   "metadata": {},
   "outputs": [
    {
     "name": "stdout",
     "output_type": "stream",
     "text": [
      "Number of rows:  49481\n",
      "Number of columns:  11\n",
      "Column names:  Index(['brand', 'category', 'condition', 'description', 'id', 'posted',\n",
      "       'price', 'seller_name', 'shipping', 'sold', 'title'],\n",
      "      dtype='object')\n",
      "Index method:  RangeIndex(start=0, stop=49481, step=1)\n",
      "Data types for entire dataframe: \n",
      "<class 'pandas.core.frame.DataFrame'>\n",
      "RangeIndex: 49481 entries, 0 to 49480\n",
      "Data columns (total 11 columns):\n",
      "brand          25163 non-null object\n",
      "category       49478 non-null object\n",
      "condition      49481 non-null object\n",
      "description    49481 non-null object\n",
      "id             49481 non-null int64\n",
      "posted         49481 non-null object\n",
      "price          49481 non-null object\n",
      "seller_name    49481 non-null object\n",
      "shipping       49481 non-null object\n",
      "sold           49481 non-null object\n",
      "title          49481 non-null object\n",
      "dtypes: int64(1), object(10)\n",
      "memory usage: 4.2+ MB\n",
      "Data type of price column specifically is:  object\n"
     ]
    }
   ],
   "source": [
    "# Row count\n",
    "rows = books.shape[0]\n",
    "print(\"Number of rows: \", str(rows))\n",
    "\n",
    "# Column count\n",
    "columns = books.shape[1]\n",
    "print(\"Number of columns: \", str(columns))\n",
    "\n",
    "# Column names\n",
    "print(\"Column names: \", str(books.columns))\n",
    "\n",
    "# Indexing method\n",
    "print(\"Index method: \", str(books.index))\n",
    "\n",
    "# Data types of all columns\n",
    "print(\"Data types for entire dataframe: \")\n",
    "books.info()\n",
    "\n",
    "# Data type of particular column\n",
    "print(\"Data type of price column specifically is: \", str(books.price.dtype))\n",
    "\n"
   ]
  },
  {
   "cell_type": "markdown",
   "metadata": {},
   "source": [
    "## Clean-up time!"
   ]
  },
  {
   "cell_type": "markdown",
   "metadata": {},
   "source": [
    "### Fix existing features"
   ]
  },
  {
   "cell_type": "code",
   "execution_count": 145,
   "metadata": {},
   "outputs": [],
   "source": [
    "# eliminate duplicate rows\n",
    "books = books.drop_duplicates()\n",
    "\n",
    "# id: convert to string\n",
    "books.id = books.id.astype(str)\n",
    "\n",
    "# posted: convert to datetime\n",
    "books.posted = pd.to_datetime(books.posted)\n",
    "\n",
    "# sold: combine buy now and add to cart categories to be 'for sale'\n",
    "books = books.replace('Buy now', 'available')\n",
    "\n",
    "# price: modify to eliminate '$' sign and convert to number\n",
    "books['price'] = books['price'].str.replace(',', '')\n",
    "books['price'] = books['price'].str.replace('$', '')\n",
    "books['price'] = books['price'].astype(int)\n"
   ]
  },
  {
   "cell_type": "markdown",
   "metadata": {},
   "source": [
    "### And add new ones"
   ]
  },
  {
   "cell_type": "code",
   "execution_count": 146,
   "metadata": {},
   "outputs": [],
   "source": [
    "# create new column \"shipping_cost\" that is continuous variable from $0 to whatever shipping fee is\n",
    "def shipping_cost(shipping_string):\n",
    "    shipping_after = shipping_string.split(\" | \")\n",
    "    if 'Free' in shipping_after[0]:\n",
    "        shipping_cost = 0\n",
    "    elif '$' in shipping_after[0]:\n",
    "        shipping_cost = shipping_after[0]\n",
    "        shipping_cost = shipping_cost.replace('$', '') \n",
    "    else:\n",
    "        shipping_cost = None\n",
    "    return shipping_cost\n",
    "books['shipping_cost'] = books['shipping'].apply(shipping_cost)\n",
    "books.shipping_cost = pd.to_numeric(books.shipping_cost, errors='coerce')\n",
    "\n",
    "# create new simpler column \"shipping_time\" that is number of days to arrival\n",
    "def shipping_time(shipping_string):\n",
    "    if 'days' in shipping_string:\n",
    "        shipping_after = shipping_string.split(\" | \")\n",
    "        if 'days' in shipping_after[0]:\n",
    "            shipping_time = shipping_after[0]\n",
    "            shipping_time = shipping_time.replace('+ days', '')\n",
    "        elif 'days' in shipping_after[1]:\n",
    "            shipping_time = shipping_after[1]\n",
    "            shipping_time = shipping_time.replace('+ days', '')\n",
    "        else:\n",
    "            shipping_time = None\n",
    "    else:\n",
    "        shipping_time = None\n",
    "    return shipping_time\n",
    "books['shipping_time'] = books['shipping'].apply(shipping_time)\n",
    "\n",
    "# create new simpler column \"shipping_location\" that is just the state product is coming from\n",
    "def shipping_location(shipping_string):\n",
    "    if 'from' in shipping_string:\n",
    "        shipping_after = shipping_string.split(\" | \")\n",
    "        if 'from' in shipping_after[0]:\n",
    "            shipping_location = shipping_after[0]\n",
    "            shipping_location = shipping_location.replace('from ', '')\n",
    "        elif 'from' in shipping_after[1]:\n",
    "            shipping_location = shipping_after[1]\n",
    "            shipping_location = shipping_location.replace('from ', '')\n",
    "        elif 'from' in shipping_after[2]:\n",
    "            shipping_location = shipping_after[2]\n",
    "            shipping_location = shipping_location.replace('from ', '')\n",
    "        else:\n",
    "            shipping_location = None\n",
    "    else:\n",
    "        shipping_location = None\n",
    "    return shipping_location\n",
    "books['shipping_location'] = books['shipping'].apply(shipping_location)\n",
    "\n",
    "# total price: new column that is sum of price and shipping fee\n",
    "books['total_price'] = books['price']+books['shipping_cost']\n",
    "\n",
    "# Making free_shipping column a yes/no\n",
    "def free_shipping(shipping_cost):\n",
    "    if shipping_cost == 0:\n",
    "        free_shipping = 1\n",
    "    else:\n",
    "        free_shipping = 0\n",
    "    return free_shipping\n",
    "\n",
    "books['free_shipping'] = books.shipping_cost.apply(free_shipping)\n",
    "\n",
    "# Making brand_included feature thats just a yes or no\n",
    "books['brand_included'] = books.brand.notnull()\n",
    "zeroANDones = lambda x: x*1\n",
    "books.brand_included = books.brand_included.apply(zeroANDones)\n",
    "\n",
    "# New column sold_true\n",
    "def sold_true(status):\n",
    "    if status == 'SOLD':\n",
    "        sold_true = 1\n",
    "    else:\n",
    "        sold_true = 0\n",
    "    return sold_true\n",
    "books['sold_true'] = books.sold.apply(sold_true)\n",
    "\n",
    "# New column summing of description length\n",
    "def description_length(desc_string):\n",
    "    description_length = len(desc_string)\n",
    "    return description_length\n",
    "books['description_length'] = books.description.apply(description_length)\n",
    "\n",
    "# New column condition_ordinal from new = 1, like new = 2, good = 3, fair = 4, poor = 5\n",
    "def condition_ordinal(condition):\n",
    "    if condition == \"New\":\n",
    "        condition_ordinal = 1\n",
    "    elif condition == \"Like new\":\n",
    "        condition_ordinal = 2\n",
    "    elif condition == \"Good\":\n",
    "        condition_ordinal = 3\n",
    "    elif condition == \"Fair\":\n",
    "        condition_ordinal = 4\n",
    "    elif condition == \"Poor\":\n",
    "        condition_ordinal = 5\n",
    "    else: condition_ordinal = None\n",
    "    return condition_ordinal\n",
    "books['condition_ordinal'] = books.condition.apply(condition_ordinal)\n",
    "\n",
    "# New column days_since_posted. Was scraped on 2019-06-10 so range from 0 and up.\n",
    "from datetime import date\n",
    "\n",
    "def days_since_posted(posted):\n",
    "    posted_day = date(posted.year, posted.month, posted.day)\n",
    "    scrape_day = date(2019, 6, 10)\n",
    "    days_since_posted = scrape_day - posted_day\n",
    "    return days_since_posted.days\n",
    "books['days_since_posted'] = books.posted.apply(days_since_posted)\n"
   ]
  },
  {
   "cell_type": "code",
   "execution_count": 20,
   "metadata": {},
   "outputs": [
    {
     "data": {
      "text/html": [
       "<div>\n",
       "<style scoped>\n",
       "    .dataframe tbody tr th:only-of-type {\n",
       "        vertical-align: middle;\n",
       "    }\n",
       "\n",
       "    .dataframe tbody tr th {\n",
       "        vertical-align: top;\n",
       "    }\n",
       "\n",
       "    .dataframe thead th {\n",
       "        text-align: right;\n",
       "    }\n",
       "</style>\n",
       "<table border=\"1\" class=\"dataframe\">\n",
       "  <thead>\n",
       "    <tr style=\"text-align: right;\">\n",
       "      <th></th>\n",
       "      <th>brand</th>\n",
       "      <th>category</th>\n",
       "      <th>condition</th>\n",
       "      <th>description</th>\n",
       "      <th>id</th>\n",
       "      <th>posted</th>\n",
       "      <th>price</th>\n",
       "      <th>seller_name</th>\n",
       "      <th>shipping</th>\n",
       "      <th>sold</th>\n",
       "      <th>...</th>\n",
       "      <th>shipping_cost</th>\n",
       "      <th>shipping_time</th>\n",
       "      <th>shipping_location</th>\n",
       "      <th>total_price</th>\n",
       "      <th>free_shipping</th>\n",
       "      <th>brand_included</th>\n",
       "      <th>sold_true</th>\n",
       "      <th>description_length</th>\n",
       "      <th>condition_ordinal</th>\n",
       "      <th>days_since_posted</th>\n",
       "    </tr>\n",
       "  </thead>\n",
       "  <tbody>\n",
       "    <tr>\n",
       "      <th>0</th>\n",
       "      <td>NaN</td>\n",
       "      <td>Other,Books,Children's books</td>\n",
       "      <td>New</td>\n",
       "      <td>Free with another book purchase</td>\n",
       "      <td>84914972647</td>\n",
       "      <td>2017-07-10</td>\n",
       "      <td>3</td>\n",
       "      <td>C Sells</td>\n",
       "      <td>$4.00 | from Texas</td>\n",
       "      <td>available</td>\n",
       "      <td>...</td>\n",
       "      <td>4.0</td>\n",
       "      <td>None</td>\n",
       "      <td>Texas</td>\n",
       "      <td>7.0</td>\n",
       "      <td>0</td>\n",
       "      <td>0</td>\n",
       "      <td>0</td>\n",
       "      <td>31</td>\n",
       "      <td>1</td>\n",
       "      <td>700</td>\n",
       "    </tr>\n",
       "    <tr>\n",
       "      <th>1</th>\n",
       "      <td>NaN</td>\n",
       "      <td>Other,Books,Children's books</td>\n",
       "      <td>New</td>\n",
       "      <td>Book-When Bad Thinds Happen in God's Wonderful...</td>\n",
       "      <td>28411714700</td>\n",
       "      <td>2017-07-15</td>\n",
       "      <td>3</td>\n",
       "      <td>Investinyou</td>\n",
       "      <td>$4.00 | 3+ days | from Texas</td>\n",
       "      <td>available</td>\n",
       "      <td>...</td>\n",
       "      <td>4.0</td>\n",
       "      <td>3</td>\n",
       "      <td>Texas</td>\n",
       "      <td>7.0</td>\n",
       "      <td>0</td>\n",
       "      <td>0</td>\n",
       "      <td>0</td>\n",
       "      <td>106</td>\n",
       "      <td>1</td>\n",
       "      <td>695</td>\n",
       "    </tr>\n",
       "    <tr>\n",
       "      <th>2</th>\n",
       "      <td>NaN</td>\n",
       "      <td>Other,Books,Children's books</td>\n",
       "      <td>New</td>\n",
       "      <td>This listing is for one book. Please let me kn...</td>\n",
       "      <td>21933816748</td>\n",
       "      <td>2019-05-26</td>\n",
       "      <td>11</td>\n",
       "      <td>HWalters55</td>\n",
       "      <td>Free | from Washington</td>\n",
       "      <td>available</td>\n",
       "      <td>...</td>\n",
       "      <td>0.0</td>\n",
       "      <td>None</td>\n",
       "      <td>Washington</td>\n",
       "      <td>11.0</td>\n",
       "      <td>1</td>\n",
       "      <td>0</td>\n",
       "      <td>0</td>\n",
       "      <td>250</td>\n",
       "      <td>1</td>\n",
       "      <td>15</td>\n",
       "    </tr>\n",
       "    <tr>\n",
       "      <th>3</th>\n",
       "      <td>NaN</td>\n",
       "      <td>Other,Books,Children's books</td>\n",
       "      <td>New</td>\n",
       "      <td>Brand new.  Never used.  Ask me about bundling.</td>\n",
       "      <td>89750511304</td>\n",
       "      <td>2017-11-11</td>\n",
       "      <td>3</td>\n",
       "      <td>Bargain hauls</td>\n",
       "      <td>$4.00 | 3+ days | from Minnesota</td>\n",
       "      <td>available</td>\n",
       "      <td>...</td>\n",
       "      <td>4.0</td>\n",
       "      <td>3</td>\n",
       "      <td>Minnesota</td>\n",
       "      <td>7.0</td>\n",
       "      <td>0</td>\n",
       "      <td>0</td>\n",
       "      <td>0</td>\n",
       "      <td>47</td>\n",
       "      <td>1</td>\n",
       "      <td>576</td>\n",
       "    </tr>\n",
       "    <tr>\n",
       "      <th>4</th>\n",
       "      <td>NaN</td>\n",
       "      <td>Other,Books,Children's books</td>\n",
       "      <td>New</td>\n",
       "      <td>My Sister The Vampire Vampalicious. New softco...</td>\n",
       "      <td>496308655</td>\n",
       "      <td>2016-08-19</td>\n",
       "      <td>4</td>\n",
       "      <td>Dustyattic</td>\n",
       "      <td>Free | from Connecticut</td>\n",
       "      <td>available</td>\n",
       "      <td>...</td>\n",
       "      <td>0.0</td>\n",
       "      <td>None</td>\n",
       "      <td>Connecticut</td>\n",
       "      <td>4.0</td>\n",
       "      <td>1</td>\n",
       "      <td>0</td>\n",
       "      <td>0</td>\n",
       "      <td>64</td>\n",
       "      <td>1</td>\n",
       "      <td>1025</td>\n",
       "    </tr>\n",
       "  </tbody>\n",
       "</table>\n",
       "<p>5 rows × 21 columns</p>\n",
       "</div>"
      ],
      "text/plain": [
       "  brand                      category condition  \\\n",
       "0   NaN  Other,Books,Children's books       New   \n",
       "1   NaN  Other,Books,Children's books       New   \n",
       "2   NaN  Other,Books,Children's books       New   \n",
       "3   NaN  Other,Books,Children's books       New   \n",
       "4   NaN  Other,Books,Children's books       New   \n",
       "\n",
       "                                         description           id     posted  \\\n",
       "0                    Free with another book purchase  84914972647 2017-07-10   \n",
       "1  Book-When Bad Thinds Happen in God's Wonderful...  28411714700 2017-07-15   \n",
       "2  This listing is for one book. Please let me kn...  21933816748 2019-05-26   \n",
       "3    Brand new.  Never used.  Ask me about bundling.  89750511304 2017-11-11   \n",
       "4  My Sister The Vampire Vampalicious. New softco...    496308655 2016-08-19   \n",
       "\n",
       "   price    seller_name                          shipping       sold  ...  \\\n",
       "0      3        C Sells                $4.00 | from Texas  available  ...   \n",
       "1      3    Investinyou      $4.00 | 3+ days | from Texas  available  ...   \n",
       "2     11     HWalters55            Free | from Washington  available  ...   \n",
       "3      3  Bargain hauls  $4.00 | 3+ days | from Minnesota  available  ...   \n",
       "4      4     Dustyattic           Free | from Connecticut  available  ...   \n",
       "\n",
       "  shipping_cost  shipping_time shipping_location total_price  free_shipping  \\\n",
       "0           4.0           None             Texas         7.0              0   \n",
       "1           4.0              3             Texas         7.0              0   \n",
       "2           0.0           None        Washington        11.0              1   \n",
       "3           4.0              3         Minnesota         7.0              0   \n",
       "4           0.0           None       Connecticut         4.0              1   \n",
       "\n",
       "   brand_included  sold_true  description_length  condition_ordinal  \\\n",
       "0               0          0                  31                  1   \n",
       "1               0          0                 106                  1   \n",
       "2               0          0                 250                  1   \n",
       "3               0          0                  47                  1   \n",
       "4               0          0                  64                  1   \n",
       "\n",
       "   days_since_posted  \n",
       "0                700  \n",
       "1                695  \n",
       "2                 15  \n",
       "3                576  \n",
       "4               1025  \n",
       "\n",
       "[5 rows x 21 columns]"
      ]
     },
     "execution_count": 20,
     "metadata": {},
     "output_type": "execute_result"
    }
   ],
   "source": [
    "books.head()"
   ]
  },
  {
   "cell_type": "markdown",
   "metadata": {},
   "source": [
    "### Filter to smaller subset of data that is only sold within the past 2 weeks and things that have been availabe for over 2 weeks"
   ]
  },
  {
   "cell_type": "code",
   "execution_count": 105,
   "metadata": {},
   "outputs": [
    {
     "name": "stdout",
     "output_type": "stream",
     "text": [
      "Books sold within the last week:  77\n",
      "Books sold within the last 2 weeks:  154\n",
      "Books sold within the last month:  240\n",
      "Books sold within the last half year:  542\n",
      "Books sold within the last year:  829\n",
      "Books sold all time:  989\n"
     ]
    }
   ],
   "source": [
    "books_filtered = books[(books.days_since_posted < 7) & (books.sold_true == 1)]\n",
    "print(\"Books sold within the last week: \", str(books_filtered.shape[0]))\n",
    "\n",
    "books_filtered = books[(books.days_since_posted < 14) & (books.sold_true == 1)]\n",
    "print(\"Books sold within the last 2 weeks: \", str(books_filtered.shape[0]))\n",
    "\n",
    "books_filtered = books[(books.days_since_posted < 30) & (books.sold_true == 1)]\n",
    "print(\"Books sold within the last month: \", str(books_filtered.shape[0]))\n",
    "\n",
    "books_filtered = books[(books.days_since_posted < 180) & (books.sold_true == 1)]\n",
    "print(\"Books sold within the last half year: \", str(books_filtered.shape[0]))\n",
    "\n",
    "books_filtered = books[(books.days_since_posted < 365) & (books.sold_true == 1)]\n",
    "print(\"Books sold within the last year: \", str(books_filtered.shape[0]))\n",
    "\n",
    "books_filtered = books[(books.sold_true == 1)]\n",
    "print(\"Books sold all time: \", str(books_filtered.shape[0]))\n",
    "\n",
    "# would be cool to make a drop-off curve of how many books get sold after so many days!"
   ]
  },
  {
   "cell_type": "code",
   "execution_count": 107,
   "metadata": {},
   "outputs": [
    {
     "name": "stdout",
     "output_type": "stream",
     "text": [
      "All unsold books:  21145\n",
      "Books usold after a week:  19945\n",
      "Books usold after 2 weeks:  19011\n",
      "Books usold between 30 and 60 days:  16814\n",
      "Books usold after half a year:  6526\n",
      "Books usold after a year:  3299\n",
      "Books usold between 30 and 60 days:  3038\n"
     ]
    }
   ],
   "source": [
    "books_filtered = books[(books.sold_true == 0)]\n",
    "print(\"All unsold books: \", str(books_filtered.shape[0]))\n",
    "\n",
    "books_filtered = books[(books.days_since_posted > 7) & (books.sold_true == 0)]\n",
    "print(\"Books usold after a week: \", str(books_filtered.shape[0]))\n",
    "\n",
    "books_filtered = books[(books.days_since_posted > 14) & (books.sold_true == 0)]\n",
    "print(\"Books usold after 2 weeks: \", str(books_filtered.shape[0]))\n",
    "\n",
    "books_filtered = books[(books.days_since_posted > 30)  & (books.sold_true == 0)]\n",
    "print(\"Books usold between 30 and 60 days: \", str(books_filtered.shape[0]))\n",
    "\n",
    "books_filtered = books[(books.days_since_posted > 180) & (books.sold_true == 0)]\n",
    "print(\"Books usold after half a year: \", str(books_filtered.shape[0]))\n",
    "\n",
    "books_filtered = books[(books.days_since_posted > 365) & (books.sold_true == 0)]\n",
    "print(\"Books usold after a year: \", str(books_filtered.shape[0]))\n",
    "\n",
    "# would be cool to make a drop-off curve of how many books get sold after so many days!\n",
    "\n",
    "books_filtered = books[((books.days_since_posted > 30) &(books.days_since_posted <60)) & (books.sold_true == 0)]\n",
    "print(\"Books usold between 30 and 60 days: \", str(books_filtered.shape[0]))"
   ]
  },
  {
   "cell_type": "markdown",
   "metadata": {},
   "source": [
    "### Maybe focus on the one month mark (things that have sold within a month and things unsold after a month)"
   ]
  },
  {
   "cell_type": "code",
   "execution_count": 108,
   "metadata": {},
   "outputs": [
    {
     "data": {
      "text/plain": [
       "3278"
      ]
     },
     "execution_count": 108,
     "metadata": {},
     "output_type": "execute_result"
    }
   ],
   "source": [
    "books_subset = books_filtered = books[(((books.days_since_posted > 30) &(books.days_since_posted <60)) & (books.sold_true == 0)) | ((books.days_since_posted < 30) & (books.sold_true == 1))]\n",
    "books_subset.shape[0]"
   ]
  },
  {
   "cell_type": "markdown",
   "metadata": {},
   "source": [
    "## Now time for some exploratory statistics!"
   ]
  },
  {
   "cell_type": "code",
   "execution_count": 91,
   "metadata": {},
   "outputs": [
    {
     "data": {
      "text/plain": [
       "<seaborn.axisgrid.FacetGrid at 0x1a1a2c5b70>"
      ]
     },
     "execution_count": 91,
     "metadata": {},
     "output_type": "execute_result"
    },
    {
     "data": {
      "image/png": "[encoded data removed]",
      "text/plain": [
       "<Figure size 823.625x360 with 2 Axes>"
      ]
     },
     "metadata": {
      "needs_background": "light"
     },
     "output_type": "display_data"
    }
   ],
   "source": [
    "#Total price against date color coded by sold or for sale\n",
    "# There seem to be a higher proporiton of free shipping purchases to non free shipping purchases in the sold graph!\n",
    "%matplotlib inline\n",
    "import seaborn as sns\n",
    "book_plot = sns.relplot(x=\"posted\", y=\"total_price\", col=\"sold\", hue = \"free_shipping\", style=\"free_shipping\", data=books)\n",
    "book_plot.set(xlim=(datetime.date(2015, 1, 1), datetime.date(2019, 8, 1)), ylim=(0,200))\n",
    "book_plot\n"
   ]
  },
  {
   "cell_type": "code",
   "execution_count": 172,
   "metadata": {},
   "outputs": [
    {
     "ename": "SyntaxError",
     "evalue": "invalid syntax (<ipython-input-172-95a928007389>, line 20)",
     "output_type": "error",
     "traceback": [
      "\u001b[0;36m  File \u001b[0;32m\"<ipython-input-172-95a928007389>\"\u001b[0;36m, line \u001b[0;32m20\u001b[0m\n\u001b[0;31m    books_over_time = {'Days_since_post': 1:1000}\u001b[0m\n\u001b[0m                                           ^\u001b[0m\n\u001b[0;31mSyntaxError\u001b[0m\u001b[0;31m:\u001b[0m invalid syntax\n"
     ]
    }
   ],
   "source": [
    "# Import the libraries\n",
    "import matplotlib.pyplot as plt\n",
    "import seaborn as sns\n",
    "\n",
    "# books subsets\n",
    "books_sold = books[books.sold_true == 1]\n",
    "books_available = books[books.sold_true == 0]\n",
    "\n",
    "# function to calculate what I want\n",
    "def cum_books_sold (days):\n",
    "    cum_books_sold = books_sold[(books_sold.days_since_posted <= days)].shape[0]\n",
    "    return cum_books_sold\n",
    "                           \n",
    "\n",
    "def books_still_left (days):\n",
    "    books_still_left = books_available.shape[0] - books_available[(books_available.days_since_posted <= days)].shape[0]\n",
    "    return books_still_left\n",
    "\n",
    "# creating a dataframe that has data I want to graph\n",
    "books_over_time = {'Days_since_post': 1:1000}\n",
    "bot = pd.DataFrame(data=books_over_time)\n",
    "bot\n",
    "# matplotlib histogram\n",
    "#plt.hist(books['days_since_posted'], color = 'blue', edgecolor = 'black', bins = int(180/5))\n",
    "\n",
    "# seaborn histogram\n",
    "#sns.distplot(books['days_since_posted'], hist=True, kde=False, bins=int(24), color = 'blue', hist_kws={'edgecolor':'black'})\n",
    "# Add labels\n",
    "#plt.title('Histogram of days since posted')\n",
    "#plt.xlabel('Days since posted')\n",
    "#plt.ylabel('Number of posts')"
   ]
  },
  {
   "cell_type": "code",
   "execution_count": 166,
   "metadata": {},
   "outputs": [
    {
     "name": "stdout",
     "output_type": "stream",
     "text": [
      "The proportion of items that sell from total listings: 0.044688446071121955 \n",
      "About 4.5%\n"
     ]
    }
   ],
   "source": [
    "\n",
    "prop = 989/(21142+989)\n",
    "print(\"The proportion of items that sell from total listings:\", str(prop), \"\\nAbout 4.5%\")"
   ]
  },
  {
   "cell_type": "code",
   "execution_count": 92,
   "metadata": {},
   "outputs": [
    {
     "data": {
      "text/plain": [
       "seller_name\n",
       "Sunshine Rehs Books     203\n",
       "1uniqueevent            158\n",
       "twoarrowsbookclub       154\n",
       "Kcasey46                130\n",
       "TRACY'S TREASURES       130\n",
       "Gemini's Bookshelf      108\n",
       "VACATION  6/8-6/17      106\n",
       "Educationalmall’s        96\n",
       "elizabeth6               92\n",
       "Kelly Harvey             89\n",
       "Rotamart                 80\n",
       "lavendersand666          76\n",
       "TaraMae1981              73\n",
       "Dominica Taylor          69\n",
       "jojocloset_a             69\n",
       "tinytab                  60\n",
       "Theo's Bookshelf         55\n",
       "Becca's Bookshelf        55\n",
       "WheretheSidewalkEnds     54\n",
       "LokisBooksNMore          54\n",
       "ParkersClothingMore      52\n",
       "MeekoPrints              45\n",
       "Dreamy_Lily              44\n",
       "Adela                    43\n",
       "hstewart21158            43\n",
       "Pmcgriff9998             42\n",
       "myhouseholdtreasures     38\n",
       "Tere González            38\n",
       "Samantha Leach           34\n",
       "osolover26               34\n",
       "                       ... \n",
       "Lynn.cash                 1\n",
       "MCrosnoe                  1\n",
       "Lyn                       1\n",
       "Lylapacheco               1\n",
       "Luvin The Farm            1\n",
       "Lusado                    1\n",
       "Lupe Dee                  1\n",
       "LunarPrincess             1\n",
       "Luky                      1\n",
       "MBEE                      1\n",
       "MKMichael                 1\n",
       "Magic Beauty              1\n",
       "Macaila's Corner          1\n",
       "Magen                     1\n",
       "Mady and King             1\n",
       "Madisonriver              1\n",
       "Madison0807               1\n",
       "Madison                   1\n",
       "Mackey1218                1\n",
       "Mack House                1\n",
       "Mac Xavier                1\n",
       "MOMENTO-MORI              1\n",
       "M_kk_85                   1\n",
       "MTGE2011                  1\n",
       "MRSSIEROCKI               1\n",
       "MQ                        1\n",
       "MPTS73                    1\n",
       "MOVINGSALEMAKEOFFERS      1\n",
       "MOMof4                    1\n",
       "⭐️✨Kat's Boutique✨⭐️      1\n",
       "Name: id, Length: 6657, dtype: int64"
      ]
     },
     "execution_count": 92,
     "metadata": {},
     "output_type": "execute_result"
    }
   ],
   "source": [
    "# Can make a new column based on seller data (# of other sales, proportion of sales to posts for seller).\n",
    "# This doesn't really make sense to include in our model though because it's not something a first time poster \n",
    "# can really do anything about.\n",
    "b = books.groupby('seller_name').count().sort_values(['id'], ascending = False)\n",
    "b.id"
   ]
  },
  {
   "cell_type": "markdown",
   "metadata": {},
   "source": [
    "## Modelling Time!"
   ]
  },
  {
   "cell_type": "code",
   "execution_count": 116,
   "metadata": {},
   "outputs": [
    {
     "name": "stderr",
     "output_type": "stream",
     "text": [
      "/Users/mleong/anaconda3/lib/python3.7/site-packages/sklearn/preprocessing/data.py:334: DataConversionWarning: Data with input dtype int64, float64 were all converted to float64 by MinMaxScaler.\n",
      "  return self.partial_fit(X, y)\n"
     ]
    }
   ],
   "source": [
    "%matplotlib notebook\n",
    "import numpy as np\n",
    "import pandas as pd\n",
    "import seaborn as sn\n",
    "import matplotlib.pyplot as plt\n",
    "from sklearn.metrics import confusion_matrix\n",
    "\n",
    "from sklearn.model_selection import train_test_split\n",
    "from sklearn.preprocessing import MinMaxScaler\n",
    "scaler = MinMaxScaler()\n",
    "\n",
    "#removing the days_since_posted feature because of subsetting\n",
    "feature_names_books = ['condition_ordinal', 'price', 'shipping_cost', 'total_price', 'free_shipping', \n",
    "                       'brand_included', 'description_length'\n",
    "                      ]\n",
    "X_books = books_subset[feature_names_books]\n",
    "y_books = books_subset['sold_true']\n",
    "\n",
    "X_train, X_test, y_train, y_test = train_test_split(X_books, y_books, random_state=0)\n",
    "\n",
    "\n",
    "# Need to look at features and think about whether things needs to be scaled. Shipping location excluded \n",
    "# because one hot encoding that does not seem to be worthwhile. I am going to create a condition_ordinal feature scale.\n",
    "# Also going to create a days_since_posted scale.\n",
    "\n",
    "X_train_scaled = scaler.fit_transform(X_train)\n",
    "X_test_scaled = scaler.transform(X_test)\n"
   ]
  },
  {
   "cell_type": "markdown",
   "metadata": {},
   "source": [
    "### Dummy Classifier"
   ]
  },
  {
   "cell_type": "code",
   "execution_count": 118,
   "metadata": {},
   "outputs": [
    {
     "name": "stdout",
     "output_type": "stream",
     "text": [
      "0.9073170731707317\n",
      "Random class-majoirty prediction (dummy classifier)\n",
      " [[744   0]\n",
      " [ 76   0]]\n"
     ]
    }
   ],
   "source": [
    "from sklearn.dummy import DummyClassifier\n",
    "\n",
    "dummy_majority = DummyClassifier(strategy = 'most_frequent').fit(X_train_scaled, y_train)\n",
    "print(dummy_majority.score(X_test_scaled, y_test))\n",
    "\n",
    "dummy_majority_predicted = dummy_majority.predict(X_test_scaled)\n",
    "confusion = confusion_matrix(y_test, dummy_majority_predicted)\n",
    "\n",
    "print('Random class-majoirty prediction (dummy classifier)\\n', confusion)"
   ]
  },
  {
   "cell_type": "markdown",
   "metadata": {},
   "source": [
    "### KNN"
   ]
  },
  {
   "cell_type": "code",
   "execution_count": 119,
   "metadata": {},
   "outputs": [
    {
     "name": "stdout",
     "output_type": "stream",
     "text": [
      "Accuracy of K-NN classifier on training set: 0.9353\n",
      "Accuracy of K-NN classifier on test set: 0.9000\n",
      "KNN\n",
      " [[737   7]\n",
      " [ 75   1]]\n"
     ]
    }
   ],
   "source": [
    "from sklearn.neighbors import KNeighborsClassifier\n",
    "\n",
    "knn = KNeighborsClassifier(n_neighbors = 5)\n",
    "knn.fit(X_train_scaled, y_train)\n",
    "print('Accuracy of K-NN classifier on training set: {:.4f}'\n",
    "     .format(knn.score(X_train_scaled, y_train)))\n",
    "print('Accuracy of K-NN classifier on test set: {:.4f}'\n",
    "     .format(knn.score(X_test_scaled, y_test)))\n",
    "\n",
    "knn_predicted = knn.predict(X_test_scaled)\n",
    "knn_confusion = confusion_matrix(y_test, knn_predicted)\n",
    "\n",
    "print('KNN\\n', knn_confusion)"
   ]
  },
  {
   "cell_type": "markdown",
   "metadata": {},
   "source": [
    "### Logistic Regression"
   ]
  },
  {
   "cell_type": "code",
   "execution_count": 120,
   "metadata": {},
   "outputs": [
    {
     "name": "stdout",
     "output_type": "stream",
     "text": [
      "Accuracy of Logistic regression classifier on training set: 0.9337\n",
      "Accuracy of Logistic regression classifier on test set: 0.9073\n",
      "Logistic Regression\n",
      " [[744   0]\n",
      " [ 76   0]]\n"
     ]
    }
   ],
   "source": [
    "from sklearn.linear_model import LogisticRegression\n",
    "\n",
    "logreg = LogisticRegression(solver = 'lbfgs').fit(X_train_scaled, y_train)\n",
    "\n",
    "print('Accuracy of Logistic regression classifier on training set: {:.4f}'\n",
    "     .format(logreg.score(X_train_scaled, y_train)))\n",
    "print('Accuracy of Logistic regression classifier on test set: {:.4f}'\n",
    "     .format(logreg.score(X_test_scaled, y_test)))\n",
    "\n",
    "logreg_predicted = logreg.predict(X_test_scaled)\n",
    "logreg_confusion = confusion_matrix(y_test, logreg_predicted)\n",
    "\n",
    "print('Logistic Regression\\n', logreg_confusion)"
   ]
  },
  {
   "cell_type": "markdown",
   "metadata": {},
   "source": [
    "### Ridge Regression with Feature Normalization"
   ]
  },
  {
   "cell_type": "code",
   "execution_count": 121,
   "metadata": {},
   "outputs": [
    {
     "name": "stdout",
     "output_type": "stream",
     "text": [
      "ridge regression linear model intercept: -0.0020509068183139217\n",
      "ridge regression linear model coeff:\n",
      "[-0.00912713  0.08644587 -0.02165774  0.083832    0.05891775  0.03662781\n",
      "  0.0144063 ]\n",
      "R-squared score (training): 0.026\n",
      "R-squared score (test): 0.015\n",
      "Number of non-zero features: 7\n"
     ]
    }
   ],
   "source": [
    "from sklearn.linear_model import Ridge\n",
    "\n",
    "linridge = Ridge(alpha=20.0).fit(X_train_scaled, y_train)\n",
    "\n",
    "print('ridge regression linear model intercept: {}'\n",
    "     .format(linridge.intercept_))\n",
    "print('ridge regression linear model coeff:\\n{}'\n",
    "     .format(linridge.coef_))\n",
    "print('R-squared score (training): {:.3f}'\n",
    "     .format(linridge.score(X_train_scaled, y_train)))\n",
    "print('R-squared score (test): {:.3f}'\n",
    "     .format(linridge.score(X_test_scaled, y_test)))\n",
    "print('Number of non-zero features: {}'\n",
    "     .format(np.sum(linridge.coef_ != 0)))\n",
    "\n"
   ]
  },
  {
   "cell_type": "markdown",
   "metadata": {},
   "source": [
    "### SVC"
   ]
  },
  {
   "cell_type": "code",
   "execution_count": 122,
   "metadata": {},
   "outputs": [
    {
     "name": "stdout",
     "output_type": "stream",
     "text": [
      "Accuracy of Linear SVC classifier on training set: 0.9337\n",
      "Accuracy of Linear SVC classifier on test set: 0.9061\n",
      "SVC \n",
      " [[743   1]\n",
      " [ 76   0]]\n"
     ]
    }
   ],
   "source": [
    "from sklearn.svm import LinearSVC\n",
    "\n",
    "svc = LinearSVC().fit(X_train_scaled, y_train)\n",
    "print('Accuracy of Linear SVC classifier on training set: {:.4f}'\n",
    "     .format(svc.score(X_train_scaled, y_train)))\n",
    "print('Accuracy of Linear SVC classifier on test set: {:.4f}'\n",
    "     .format(svc.score(X_test_scaled, y_test)))\n",
    "\n",
    "svc_predicted = svc.predict(X_test_scaled)\n",
    "svc_confusion = confusion_matrix(y_test, svc_predicted)\n",
    "\n",
    "print('SVC \\n', svc_confusion)"
   ]
  },
  {
   "cell_type": "markdown",
   "metadata": {},
   "source": [
    "### Naive Bayes"
   ]
  },
  {
   "cell_type": "code",
   "execution_count": 123,
   "metadata": {},
   "outputs": [
    {
     "name": "stdout",
     "output_type": "stream",
     "text": [
      "Accuracy of GaussianNB classifier on training set: 0.9154\n",
      "Accuracy of GaussianNB classifier on test set: 0.8854\n",
      "Naive Bayes \n",
      " [[724  20]\n",
      " [ 74   2]]\n"
     ]
    }
   ],
   "source": [
    "from sklearn.naive_bayes import GaussianNB\n",
    "\n",
    "nb = GaussianNB().fit(X_train_scaled, y_train)\n",
    "print('Accuracy of GaussianNB classifier on training set: {:.4f}'\n",
    "     .format(nb.score(X_train_scaled, y_train)))\n",
    "print('Accuracy of GaussianNB classifier on test set: {:.4f}'\n",
    "     .format(nb.score(X_test_scaled, y_test)))\n",
    "\n",
    "nb_predicted = nb.predict(X_test_scaled)\n",
    "nb_confusion = confusion_matrix(y_test, nb_predicted)\n",
    "\n",
    "print('Naive Bayes \\n', nb_confusion)"
   ]
  },
  {
   "cell_type": "markdown",
   "metadata": {},
   "source": [
    "### Random Forests"
   ]
  },
  {
   "cell_type": "code",
   "execution_count": 132,
   "metadata": {},
   "outputs": [
    {
     "name": "stdout",
     "output_type": "stream",
     "text": [
      "Accuracy of RF classifier on training set: 0.9365\n",
      "Accuracy of RF classifier on test set: 0.9073\n",
      "Random Forest \n",
      " [[743   1]\n",
      " [ 75   1]]\n"
     ]
    }
   ],
   "source": [
    "from sklearn.ensemble import RandomForestClassifier\n",
    "\n",
    "rf = RandomForestClassifier(min_samples_split = 10, n_estimators = 1000, random_state=0).fit(X_train_scaled, y_train)\n",
    "print('Accuracy of RF classifier on training set: {:.4f}'\n",
    "     .format(rf.score(X_train_scaled, y_train)))\n",
    "print('Accuracy of RF classifier on test set: {:.4f}'\n",
    "     .format(rf.score(X_test_scaled, y_test)))\n",
    "\n",
    "rf_predicted = rf.predict(X_test_scaled)\n",
    "rf_confusion = confusion_matrix(y_test, rf_predicted)\n",
    "\n",
    "print('Random Forest \\n', rf_confusion)"
   ]
  },
  {
   "cell_type": "markdown",
   "metadata": {},
   "source": [
    "### Gradient-Boosted Decision Trees"
   ]
  },
  {
   "cell_type": "code",
   "execution_count": 125,
   "metadata": {},
   "outputs": [
    {
     "name": "stdout",
     "output_type": "stream",
     "text": [
      "(learning_rate=0.01, max_depth=2)\n",
      "Accuracy of GBDT classifier on training set: 0.9333\n",
      "Accuracy of GBDT classifier on test set: 0.9073\n",
      "Gradient-Boosted Decision Trees \n",
      " [[744   0]\n",
      " [ 76   0]]\n"
     ]
    }
   ],
   "source": [
    "from sklearn.ensemble import GradientBoostingClassifier\n",
    "\n",
    "gbdt = GradientBoostingClassifier(learning_rate = 0.01, max_depth = 2, random_state = 0)\n",
    "gbdt.fit(X_train_scaled, y_train)\n",
    "print('(learning_rate=0.01, max_depth=2)')\n",
    "print('Accuracy of GBDT classifier on training set: {:.4f}'\n",
    "     .format(gbdt.score(X_train_scaled, y_train)))\n",
    "print('Accuracy of GBDT classifier on test set: {:.4f}'\n",
    "     .format(gbdt.score(X_test_scaled, y_test)))\n",
    "\n",
    "gbdt_predicted = gbdt.predict(X_test_scaled)\n",
    "gbdt_confusion = confusion_matrix(y_test, gbdt_predicted)\n",
    "\n",
    "print('Gradient-Boosted Decision Trees \\n', gbdt_confusion)"
   ]
  },
  {
   "cell_type": "markdown",
   "metadata": {},
   "source": [
    "## Evaluating these metrics with alternative models"
   ]
  },
  {
   "cell_type": "code",
   "execution_count": 126,
   "metadata": {},
   "outputs": [
    {
     "name": "stdout",
     "output_type": "stream",
     "text": [
      "Dummy predictor (most frequent) \n",
      "               precision    recall  f1-score   support\n",
      "\n",
      "   available       0.91      1.00      0.95       744\n",
      "        sold       0.00      0.00      0.00        76\n",
      "\n",
      "   micro avg       0.91      0.91      0.91       820\n",
      "   macro avg       0.45      0.50      0.48       820\n",
      "weighted avg       0.82      0.91      0.86       820\n",
      "\n",
      "KNN \n",
      "               precision    recall  f1-score   support\n",
      "\n",
      "   available       0.91      0.99      0.95       744\n",
      "        sold       0.12      0.01      0.02        76\n",
      "\n",
      "   micro avg       0.90      0.90      0.90       820\n",
      "   macro avg       0.52      0.50      0.49       820\n",
      "weighted avg       0.84      0.90      0.86       820\n",
      "\n",
      "Logistic regression\n",
      "               precision    recall  f1-score   support\n",
      "\n",
      "   available       0.91      1.00      0.95       744\n",
      "        sold       0.00      0.00      0.00        76\n",
      "\n",
      "   micro avg       0.91      0.91      0.91       820\n",
      "   macro avg       0.45      0.50      0.48       820\n",
      "weighted avg       0.82      0.91      0.86       820\n",
      "\n",
      "SVC\n",
      "               precision    recall  f1-score   support\n",
      "\n",
      "   available       0.91      1.00      0.95       744\n",
      "        sold       0.00      0.00      0.00        76\n",
      "\n",
      "   micro avg       0.91      0.91      0.91       820\n",
      "   macro avg       0.45      0.50      0.48       820\n",
      "weighted avg       0.82      0.91      0.86       820\n",
      "\n",
      "Naive Bayes\n",
      "               precision    recall  f1-score   support\n",
      "\n",
      "   available       0.91      0.97      0.94       744\n",
      "        sold       0.09      0.03      0.04        76\n",
      "\n",
      "   micro avg       0.89      0.89      0.89       820\n",
      "   macro avg       0.50      0.50      0.49       820\n",
      "weighted avg       0.83      0.89      0.86       820\n",
      "\n",
      "Random Forest\n",
      "               precision    recall  f1-score   support\n",
      "\n",
      "   available       0.91      0.98      0.94       744\n",
      "        sold       0.17      0.04      0.06        76\n",
      "\n",
      "   micro avg       0.89      0.89      0.89       820\n",
      "   macro avg       0.54      0.51      0.50       820\n",
      "weighted avg       0.84      0.89      0.86       820\n",
      "\n",
      "Gradient-Boosted Decision Trees\n",
      "               precision    recall  f1-score   support\n",
      "\n",
      "   available       0.91      1.00      0.95       744\n",
      "        sold       0.00      0.00      0.00        76\n",
      "\n",
      "   micro avg       0.91      0.91      0.91       820\n",
      "   macro avg       0.45      0.50      0.48       820\n",
      "weighted avg       0.82      0.91      0.86       820\n",
      "\n"
     ]
    },
    {
     "name": "stderr",
     "output_type": "stream",
     "text": [
      "/Users/mleong/anaconda3/lib/python3.7/site-packages/sklearn/metrics/classification.py:1143: UndefinedMetricWarning: Precision and F-score are ill-defined and being set to 0.0 in labels with no predicted samples.\n",
      "  'precision', 'predicted', average, warn_for)\n",
      "/Users/mleong/anaconda3/lib/python3.7/site-packages/sklearn/metrics/classification.py:1143: UndefinedMetricWarning: Precision and F-score are ill-defined and being set to 0.0 in labels with no predicted samples.\n",
      "  'precision', 'predicted', average, warn_for)\n",
      "/Users/mleong/anaconda3/lib/python3.7/site-packages/sklearn/metrics/classification.py:1143: UndefinedMetricWarning: Precision and F-score are ill-defined and being set to 0.0 in labels with no predicted samples.\n",
      "  'precision', 'predicted', average, warn_for)\n",
      "/Users/mleong/anaconda3/lib/python3.7/site-packages/sklearn/metrics/classification.py:1143: UndefinedMetricWarning: Precision and F-score are ill-defined and being set to 0.0 in labels with no predicted samples.\n",
      "  'precision', 'predicted', average, warn_for)\n",
      "/Users/mleong/anaconda3/lib/python3.7/site-packages/sklearn/metrics/classification.py:1143: UndefinedMetricWarning: Precision and F-score are ill-defined and being set to 0.0 in labels with no predicted samples.\n",
      "  'precision', 'predicted', average, warn_for)\n",
      "/Users/mleong/anaconda3/lib/python3.7/site-packages/sklearn/metrics/classification.py:1143: UndefinedMetricWarning: Precision and F-score are ill-defined and being set to 0.0 in labels with no predicted samples.\n",
      "  'precision', 'predicted', average, warn_for)\n",
      "/Users/mleong/anaconda3/lib/python3.7/site-packages/sklearn/metrics/classification.py:1143: UndefinedMetricWarning: Precision and F-score are ill-defined and being set to 0.0 in labels with no predicted samples.\n",
      "  'precision', 'predicted', average, warn_for)\n",
      "/Users/mleong/anaconda3/lib/python3.7/site-packages/sklearn/metrics/classification.py:1143: UndefinedMetricWarning: Precision and F-score are ill-defined and being set to 0.0 in labels with no predicted samples.\n",
      "  'precision', 'predicted', average, warn_for)\n",
      "/Users/mleong/anaconda3/lib/python3.7/site-packages/sklearn/metrics/classification.py:1143: UndefinedMetricWarning: Precision and F-score are ill-defined and being set to 0.0 in labels with no predicted samples.\n",
      "  'precision', 'predicted', average, warn_for)\n"
     ]
    }
   ],
   "source": [
    "from sklearn.metrics import classification_report\n",
    "\n",
    "print('Dummy predictor (most frequent) \\n', classification_report(y_test, dummy_majority_predicted, target_names=['available', 'sold']))\n",
    "print('KNN \\n', classification_report(y_test, knn_predicted, target_names=['available', 'sold']))\n",
    "print('Logistic regression\\n', classification_report(y_test, logreg_predicted, target_names = ['available', 'sold']))\n",
    "print('SVC\\n', classification_report(y_test, svc_predicted, target_names = ['available', 'sold']))\n",
    "print('Naive Bayes\\n', classification_report(y_test, nb_predicted, target_names = ['available', 'sold']))\n",
    "print('Random Forest\\n', classification_report(y_test, rf_predicted, target_names = ['available', 'sold']))\n",
    "print('Gradient-Boosted Decision Trees\\n', classification_report(y_test, gbdt_predicted, target_names = ['available', 'sold']))"
   ]
  },
  {
   "cell_type": "code",
   "execution_count": null,
   "metadata": {},
   "outputs": [],
   "source": []
  }
 ],
 "metadata": {
  "kernelspec": {
   "display_name": "Python 3",
   "language": "python",
   "name": "python3"
  },
  "language_info": {
   "codemirror_mode": {
    "name": "ipython",
    "version": 3
   },
   "file_extension": ".py",
   "mimetype": "text/x-python",
   "name": "python",
   "nbconvert_exporter": "python",
   "pygments_lexer": "ipython3",
   "version": "3.7.3"
  }
 },
 "nbformat": 4,
 "nbformat_minor": 2
}
